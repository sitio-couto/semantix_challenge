{
  "nbformat": 4,
  "nbformat_minor": 0,
  "metadata": {
    "colab": {
      "name": "Data Science Challenge",
      "provenance": [],
      "collapsed_sections": [],
      "toc_visible": true
    },
    "kernelspec": {
      "name": "python3",
      "display_name": "Python 3"
    }
  },
  "cells": [
    {
      "cell_type": "markdown",
      "metadata": {
        "id": "YI-xhzt0ew6e",
        "colab_type": "text"
      },
      "source": [
        "# **Desafio Data Science**"
      ]
    },
    {
      "cell_type": "markdown",
      "metadata": {
        "id": "vCeUcUlIkLWn",
        "colab_type": "text"
      },
      "source": [
        "### Blibliotecas utilizadas e suas respectivas versões"
      ]
    },
    {
      "cell_type": "code",
      "metadata": {
        "id": "cxtCgtgDUyEi",
        "colab_type": "code",
        "colab": {
          "base_uri": "https://localhost:8080/",
          "height": 1000
        },
        "outputId": "03d9979e-db24-4d6d-a0a9-3d969ad30e6b"
      },
      "source": [
        "import seaborn as sn \n",
        "import numpy as np \n",
        "import pandas as pd \n",
        "from sklearn.metrics import confusion_matrix as cm\n",
        "from sklearn.preprocessing import StandardScaler\n",
        "from sklearn.decomposition import PCA\n",
        "import matplotlib.pyplot as plt \n",
        "!pip freeze"
      ],
      "execution_count": 345,
      "outputs": [
        {
          "output_type": "stream",
          "text": [
            "absl-py==0.8.1\n",
            "alabaster==0.7.12\n",
            "albumentations==0.1.12\n",
            "altair==4.0.0\n",
            "asgiref==3.2.3\n",
            "astor==0.8.1\n",
            "astropy==3.0.5\n",
            "atari-py==0.2.6\n",
            "atomicwrites==1.3.0\n",
            "attrs==19.3.0\n",
            "audioread==2.1.8\n",
            "autograd==1.3\n",
            "Babel==2.7.0\n",
            "backcall==0.1.0\n",
            "backports.tempfile==1.0\n",
            "backports.weakref==1.0.post1\n",
            "beautifulsoup4==4.6.3\n",
            "bleach==3.1.0\n",
            "blis==0.2.4\n",
            "bokeh==1.0.4\n",
            "boto==2.49.0\n",
            "boto3==1.10.40\n",
            "botocore==1.13.40\n",
            "Bottleneck==1.3.1\n",
            "branca==0.3.1\n",
            "bs4==0.0.1\n",
            "bz2file==0.98\n",
            "cachetools==4.0.0\n",
            "certifi==2019.11.28\n",
            "cffi==1.13.2\n",
            "chainer==6.5.0\n",
            "chardet==3.0.4\n",
            "chart-studio==1.0.0\n",
            "Click==7.0\n",
            "cloudpickle==1.2.2\n",
            "cmake==3.12.0\n",
            "colorlover==0.3.0\n",
            "community==1.0.0b1\n",
            "contextlib2==0.5.5\n",
            "convertdate==2.2.0\n",
            "coverage==3.7.1\n",
            "coveralls==0.5\n",
            "crcmod==1.7\n",
            "cufflinks==0.17.0\n",
            "cvxopt==1.2.3\n",
            "cvxpy==1.0.25\n",
            "cycler==0.10.0\n",
            "cymem==2.0.3\n",
            "Cython==0.29.14\n",
            "daft==0.0.4\n",
            "dask==1.1.5\n",
            "dataclasses==0.7\n",
            "datascience==0.10.6\n",
            "decorator==4.4.1\n",
            "defusedxml==0.6.0\n",
            "descartes==1.1.0\n",
            "dill==0.3.1.1\n",
            "distributed==1.25.3\n",
            "Django==3.0\n",
            "dlib==19.18.0\n",
            "dm-sonnet==1.35\n",
            "docopt==0.6.2\n",
            "docutils==0.15.2\n",
            "dopamine-rl==1.0.5\n",
            "earthengine-api==0.1.208\n",
            "easydict==1.9\n",
            "ecos==2.0.7.post1\n",
            "editdistance==0.5.3\n",
            "en-core-web-sm==2.1.0\n",
            "entrypoints==0.3\n",
            "et-xmlfile==1.0.1\n",
            "fa2==0.3.5\n",
            "fancyimpute==0.4.3\n",
            "fastai==1.0.59\n",
            "fastcache==1.1.0\n",
            "fastdtw==0.3.4\n",
            "fastprogress==0.1.22\n",
            "fastrlock==0.4\n",
            "fbprophet==0.5\n",
            "feather-format==0.4.0\n",
            "featuretools==0.4.1\n",
            "filelock==3.0.12\n",
            "fix-yahoo-finance==0.0.22\n",
            "Flask==1.1.1\n",
            "folium==0.8.3\n",
            "fsspec==0.6.2\n",
            "future==0.16.0\n",
            "gast==0.2.2\n",
            "GDAL==2.2.2\n",
            "gdown==3.6.4\n",
            "gensim==3.6.0\n",
            "geographiclib==1.50\n",
            "geopy==1.17.0\n",
            "gevent==1.4.0\n",
            "gin-config==0.2.1\n",
            "glob2==0.7\n",
            "google==2.0.3\n",
            "google-api-core==1.15.0\n",
            "google-api-python-client==1.7.11\n",
            "google-auth==1.4.2\n",
            "google-auth-httplib2==0.0.3\n",
            "google-auth-oauthlib==0.4.1\n",
            "google-cloud-bigquery==1.21.0\n",
            "google-cloud-core==1.0.3\n",
            "google-cloud-datastore==1.8.0\n",
            "google-cloud-language==1.2.0\n",
            "google-cloud-storage==1.16.2\n",
            "google-cloud-translate==1.5.0\n",
            "google-colab==1.0.0\n",
            "google-pasta==0.1.8\n",
            "google-resumable-media==0.4.1\n",
            "googleapis-common-protos==1.6.0\n",
            "googledrivedownloader==0.4\n",
            "graph-nets==1.0.5\n",
            "graphviz==0.10.1\n",
            "greenlet==0.4.15\n",
            "grpcio==1.15.0\n",
            "gspread==3.0.1\n",
            "gspread-dataframe==3.0.3\n",
            "gunicorn==20.0.4\n",
            "gym==0.15.4\n",
            "h5py==2.8.0\n",
            "HeapDict==1.0.1\n",
            "holidays==0.9.11\n",
            "html5lib==1.0.1\n",
            "httpimport==0.5.18\n",
            "httplib2==0.11.3\n",
            "humanize==0.5.1\n",
            "hyperopt==0.1.2\n",
            "ideep4py==2.0.0.post3\n",
            "idna==2.8\n",
            "image==1.5.27\n",
            "imageio==2.4.1\n",
            "imagesize==1.1.0\n",
            "imbalanced-learn==0.4.3\n",
            "imblearn==0.0\n",
            "imgaug==0.2.9\n",
            "importlib-metadata==1.3.0\n",
            "imutils==0.5.3\n",
            "inflect==2.1.0\n",
            "intel-openmp==2020.0.133\n",
            "intervaltree==2.1.0\n",
            "ipykernel==4.6.1\n",
            "ipython==5.5.0\n",
            "ipython-genutils==0.2.0\n",
            "ipython-sql==0.3.9\n",
            "ipywidgets==7.5.1\n",
            "itsdangerous==1.1.0\n",
            "jax==0.1.52\n",
            "jaxlib==0.1.36\n",
            "jdcal==1.4.1\n",
            "jedi==0.15.1\n",
            "jieba==0.39\n",
            "Jinja2==2.10.3\n",
            "jmespath==0.9.4\n",
            "joblib==0.14.1\n",
            "jpeg4py==0.1.4\n",
            "jsonschema==2.6.0\n",
            "jupyter==1.0.0\n",
            "jupyter-client==5.3.4\n",
            "jupyter-console==5.2.0\n",
            "jupyter-core==4.6.1\n",
            "kaggle==1.5.6\n",
            "kapre==0.1.3.1\n",
            "Keras==2.2.5\n",
            "Keras-Applications==1.0.8\n",
            "Keras-Preprocessing==1.1.0\n",
            "keras-vis==0.4.1\n",
            "kfac==0.2.0\n",
            "kiwisolver==1.1.0\n",
            "knnimpute==0.1.0\n",
            "librosa==0.6.3\n",
            "lightgbm==2.2.3\n",
            "llvmlite==0.30.0\n",
            "lmdb==0.98\n",
            "lucid==0.3.8\n",
            "lunardate==0.2.0\n",
            "lxml==4.2.6\n",
            "magenta==0.3.19\n",
            "Markdown==3.1.1\n",
            "MarkupSafe==1.1.1\n",
            "matplotlib==3.1.2\n",
            "matplotlib-venn==0.11.5\n",
            "mesh-tensorflow==0.1.7\n",
            "mido==1.2.6\n",
            "mir-eval==0.5\n",
            "missingno==0.4.2\n",
            "mistune==0.8.4\n",
            "mizani==0.5.4\n",
            "mkl==2019.0\n",
            "mlxtend==0.14.0\n",
            "more-itertools==8.0.2\n",
            "moviepy==0.2.3.5\n",
            "mpi4py==3.0.3\n",
            "mpmath==1.1.0\n",
            "msgpack==0.5.6\n",
            "multiprocess==0.70.9\n",
            "multitasking==0.0.9\n",
            "murmurhash==1.0.2\n",
            "music21==5.5.0\n",
            "natsort==5.5.0\n",
            "nbconvert==5.6.1\n",
            "nbformat==4.4.0\n",
            "networkx==2.4\n",
            "nibabel==2.3.3\n",
            "nltk==3.2.5\n",
            "notebook==5.2.2\n",
            "np-utils==0.5.12.1\n",
            "numba==0.40.1\n",
            "numexpr==2.7.0\n",
            "numpy==1.17.4\n",
            "nvidia-ml-py3==7.352.0\n",
            "oauth2client==4.1.3\n",
            "oauthlib==3.1.0\n",
            "okgrade==0.4.3\n",
            "olefile==0.46\n",
            "opencv-contrib-python==4.1.2.30\n",
            "opencv-python==4.1.2.30\n",
            "openpyxl==2.5.9\n",
            "opt-einsum==3.1.0\n",
            "osqp==0.6.1\n",
            "packaging==19.2\n",
            "palettable==3.3.0\n",
            "pandas==0.25.3\n",
            "pandas-datareader==0.7.4\n",
            "pandas-gbq==0.11.0\n",
            "pandas-profiling==1.4.1\n",
            "pandocfilters==1.4.2\n",
            "parso==0.5.2\n",
            "pathlib==1.0.1\n",
            "patsy==0.5.1\n",
            "pexpect==4.7.0\n",
            "pickleshare==0.7.5\n",
            "Pillow==4.3.0\n",
            "pip-tools==4.2.0\n",
            "plac==0.9.6\n",
            "plotly==4.1.1\n",
            "plotnine==0.5.1\n",
            "pluggy==0.7.1\n",
            "portpicker==1.2.0\n",
            "prefetch-generator==1.0.1\n",
            "preshed==2.0.1\n",
            "pretty-midi==0.2.8\n",
            "prettytable==0.7.2\n",
            "progressbar2==3.38.0\n",
            "prometheus-client==0.7.1\n",
            "promise==2.2.1\n",
            "prompt-toolkit==1.0.18\n",
            "protobuf==3.10.0\n",
            "psutil==5.4.8\n",
            "psycopg2==2.7.6.1\n",
            "ptyprocess==0.6.0\n",
            "py==1.8.0\n",
            "pyarrow==0.14.1\n",
            "pyasn1==0.4.8\n",
            "pyasn1-modules==0.2.7\n",
            "pycocotools==2.0.0\n",
            "pycparser==2.19\n",
            "pydata-google-auth==0.2.1\n",
            "pydot==1.3.0\n",
            "pydot-ng==2.0.0\n",
            "pydotplus==2.0.2\n",
            "PyDrive==1.3.1\n",
            "pyemd==0.5.1\n",
            "pyglet==1.3.2\n",
            "Pygments==2.1.3\n",
            "pygobject==3.26.1\n",
            "pymc3==3.7\n",
            "PyMeeus==0.3.6\n",
            "pymongo==3.10.0\n",
            "pymystem3==0.2.0\n",
            "PyOpenGL==3.1.4\n",
            "pyparsing==2.4.5\n",
            "pypng==0.0.20\n",
            "pyrsistent==0.15.6\n",
            "pysndfile==1.3.8\n",
            "PySocks==1.7.1\n",
            "pystan==2.19.1.1\n",
            "pytest==3.6.4\n",
            "python-apt==1.6.4\n",
            "python-chess==0.23.11\n",
            "python-dateutil==2.6.1\n",
            "python-louvain==0.13\n",
            "python-rtmidi==1.3.1\n",
            "python-slugify==4.0.0\n",
            "python-utils==2.3.0\n",
            "pytz==2018.9\n",
            "PyWavelets==1.1.1\n",
            "PyYAML==3.13\n",
            "pyzmq==17.0.0\n",
            "qtconsole==4.6.0\n",
            "regex==2019.12.9\n",
            "requests==2.21.0\n",
            "requests-oauthlib==1.3.0\n",
            "resampy==0.2.2\n",
            "retrying==1.3.3\n",
            "rpy2==2.9.5\n",
            "rsa==4.0\n",
            "s3fs==0.4.0\n",
            "s3transfer==0.2.1\n",
            "scikit-image==0.15.0\n",
            "scikit-learn==0.21.3\n",
            "scipy==1.3.3\n",
            "screen-resolution-extra==0.0.0\n",
            "scs==2.1.1.post2\n",
            "seaborn==0.9.0\n",
            "semantic-version==2.8.3\n",
            "Send2Trash==1.5.0\n",
            "setuptools-git==1.2\n",
            "Shapely==1.6.4.post2\n",
            "simplegeneric==0.8.1\n",
            "six==1.12.0\n",
            "sklearn==0.0\n",
            "sklearn-pandas==1.8.0\n",
            "smart-open==1.9.0\n",
            "snowballstemmer==2.0.0\n",
            "sortedcontainers==2.1.0\n",
            "spacy==2.1.9\n",
            "Sphinx==1.8.5\n",
            "sphinxcontrib-websupport==1.1.2\n",
            "SQLAlchemy==1.3.12\n",
            "sqlparse==0.3.0\n",
            "srsly==0.2.0\n",
            "stable-baselines==2.2.1\n",
            "statsmodels==0.10.2\n",
            "sympy==1.1.1\n",
            "tables==3.4.4\n",
            "tabulate==0.8.6\n",
            "tblib==1.6.0\n",
            "tensor2tensor==1.14.1\n",
            "tensorboard==1.15.0\n",
            "tensorboardcolab==0.0.22\n",
            "tensorflow==1.15.0\n",
            "tensorflow-datasets==1.3.2\n",
            "tensorflow-estimator==1.15.1\n",
            "tensorflow-gan==2.0.0\n",
            "tensorflow-hub==0.7.0\n",
            "tensorflow-metadata==0.15.1\n",
            "tensorflow-privacy==0.2.2\n",
            "tensorflow-probability==0.7.0\n",
            "termcolor==1.1.0\n",
            "terminado==0.8.3\n",
            "testpath==0.4.4\n",
            "text-unidecode==1.3\n",
            "textblob==0.15.3\n",
            "textgenrnn==1.4.1\n",
            "tflearn==0.3.2\n",
            "Theano==1.0.4\n",
            "thinc==7.0.8\n",
            "toolz==0.10.0\n",
            "torch==1.3.1\n",
            "torchsummary==1.5.1\n",
            "torchtext==0.3.1\n",
            "torchvision==0.4.2\n",
            "tornado==4.5.3\n",
            "tqdm==4.28.1\n",
            "traitlets==4.3.3\n",
            "tweepy==3.6.0\n",
            "typing==3.6.6\n",
            "typing-extensions==3.6.6\n",
            "tzlocal==1.5.1\n",
            "umap-learn==0.3.10\n",
            "uritemplate==3.0.0\n",
            "urllib3==1.24.3\n",
            "vega-datasets==0.7.0\n",
            "wasabi==0.4.2\n",
            "wcwidth==0.1.7\n",
            "webencodings==0.5.1\n",
            "Werkzeug==0.16.0\n",
            "widgetsnbextension==3.5.1\n",
            "wordcloud==1.5.0\n",
            "wrapt==1.11.2\n",
            "xarray==0.11.3\n",
            "xgboost==0.90\n",
            "xkit==0.0.0\n",
            "xlrd==1.1.0\n",
            "xlwt==1.3.0\n",
            "yellowbrick==0.9.1\n",
            "zict==1.0.0\n",
            "zipp==0.6.0\n",
            "zmq==0.0.0\n"
          ],
          "name": "stdout"
        }
      ]
    },
    {
      "cell_type": "markdown",
      "metadata": {
        "id": "oQOXukoIXHS-",
        "colab_type": "text"
      },
      "source": [
        "Primeiramente, faremos a leitura do CSV. Nota-se que o separador utilizado será `;` já que os dados não estão separados pelo separador padrão (`,`). "
      ]
    },
    {
      "cell_type": "code",
      "metadata": {
        "id": "2dWpmC4RWdno",
        "colab_type": "code",
        "colab": {}
      },
      "source": [
        "data = pd.read_csv(\"bank/bank-full.csv\", delimiter=';')"
      ],
      "execution_count": 0,
      "outputs": []
    },
    {
      "cell_type": "markdown",
      "metadata": {
        "id": "2xlU9qTwXrcd",
        "colab_type": "text"
      },
      "source": [
        "Visualizando uma amostra do Dataframe, podemos confirmar que os dados foram lidos corretamente. "
      ]
    },
    {
      "cell_type": "code",
      "metadata": {
        "id": "myryKvnQVAvW",
        "colab_type": "code",
        "outputId": "382c1bf6-454d-4e59-b9b0-f0dc40d9c652",
        "colab": {
          "base_uri": "https://localhost:8080/",
          "height": 351
        }
      },
      "source": [
        "data.sample(8)"
      ],
      "execution_count": 348,
      "outputs": [
        {
          "output_type": "execute_result",
          "data": {
            "text/html": [
              "<div>\n",
              "<style scoped>\n",
              "    .dataframe tbody tr th:only-of-type {\n",
              "        vertical-align: middle;\n",
              "    }\n",
              "\n",
              "    .dataframe tbody tr th {\n",
              "        vertical-align: top;\n",
              "    }\n",
              "\n",
              "    .dataframe thead th {\n",
              "        text-align: right;\n",
              "    }\n",
              "</style>\n",
              "<table border=\"1\" class=\"dataframe\">\n",
              "  <thead>\n",
              "    <tr style=\"text-align: right;\">\n",
              "      <th></th>\n",
              "      <th>age</th>\n",
              "      <th>job</th>\n",
              "      <th>marital</th>\n",
              "      <th>education</th>\n",
              "      <th>default</th>\n",
              "      <th>balance</th>\n",
              "      <th>housing</th>\n",
              "      <th>loan</th>\n",
              "      <th>contact</th>\n",
              "      <th>day</th>\n",
              "      <th>month</th>\n",
              "      <th>duration</th>\n",
              "      <th>campaign</th>\n",
              "      <th>pdays</th>\n",
              "      <th>previous</th>\n",
              "      <th>poutcome</th>\n",
              "      <th>y</th>\n",
              "    </tr>\n",
              "  </thead>\n",
              "  <tbody>\n",
              "    <tr>\n",
              "      <th>6136</th>\n",
              "      <td>52</td>\n",
              "      <td>admin.</td>\n",
              "      <td>married</td>\n",
              "      <td>secondary</td>\n",
              "      <td>no</td>\n",
              "      <td>876</td>\n",
              "      <td>no</td>\n",
              "      <td>no</td>\n",
              "      <td>unknown</td>\n",
              "      <td>27</td>\n",
              "      <td>may</td>\n",
              "      <td>227</td>\n",
              "      <td>3</td>\n",
              "      <td>-1</td>\n",
              "      <td>0</td>\n",
              "      <td>unknown</td>\n",
              "      <td>no</td>\n",
              "    </tr>\n",
              "    <tr>\n",
              "      <th>33963</th>\n",
              "      <td>59</td>\n",
              "      <td>retired</td>\n",
              "      <td>married</td>\n",
              "      <td>secondary</td>\n",
              "      <td>no</td>\n",
              "      <td>493</td>\n",
              "      <td>no</td>\n",
              "      <td>no</td>\n",
              "      <td>cellular</td>\n",
              "      <td>30</td>\n",
              "      <td>apr</td>\n",
              "      <td>237</td>\n",
              "      <td>1</td>\n",
              "      <td>-1</td>\n",
              "      <td>0</td>\n",
              "      <td>unknown</td>\n",
              "      <td>yes</td>\n",
              "    </tr>\n",
              "    <tr>\n",
              "      <th>3610</th>\n",
              "      <td>42</td>\n",
              "      <td>blue-collar</td>\n",
              "      <td>married</td>\n",
              "      <td>primary</td>\n",
              "      <td>no</td>\n",
              "      <td>2519</td>\n",
              "      <td>yes</td>\n",
              "      <td>no</td>\n",
              "      <td>unknown</td>\n",
              "      <td>15</td>\n",
              "      <td>may</td>\n",
              "      <td>262</td>\n",
              "      <td>4</td>\n",
              "      <td>-1</td>\n",
              "      <td>0</td>\n",
              "      <td>unknown</td>\n",
              "      <td>no</td>\n",
              "    </tr>\n",
              "    <tr>\n",
              "      <th>21054</th>\n",
              "      <td>47</td>\n",
              "      <td>technician</td>\n",
              "      <td>married</td>\n",
              "      <td>secondary</td>\n",
              "      <td>no</td>\n",
              "      <td>-9</td>\n",
              "      <td>no</td>\n",
              "      <td>no</td>\n",
              "      <td>cellular</td>\n",
              "      <td>14</td>\n",
              "      <td>aug</td>\n",
              "      <td>457</td>\n",
              "      <td>2</td>\n",
              "      <td>-1</td>\n",
              "      <td>0</td>\n",
              "      <td>unknown</td>\n",
              "      <td>no</td>\n",
              "    </tr>\n",
              "    <tr>\n",
              "      <th>34340</th>\n",
              "      <td>57</td>\n",
              "      <td>retired</td>\n",
              "      <td>married</td>\n",
              "      <td>tertiary</td>\n",
              "      <td>no</td>\n",
              "      <td>1458</td>\n",
              "      <td>no</td>\n",
              "      <td>no</td>\n",
              "      <td>telephone</td>\n",
              "      <td>4</td>\n",
              "      <td>may</td>\n",
              "      <td>89</td>\n",
              "      <td>5</td>\n",
              "      <td>-1</td>\n",
              "      <td>0</td>\n",
              "      <td>unknown</td>\n",
              "      <td>no</td>\n",
              "    </tr>\n",
              "    <tr>\n",
              "      <th>33246</th>\n",
              "      <td>31</td>\n",
              "      <td>blue-collar</td>\n",
              "      <td>single</td>\n",
              "      <td>secondary</td>\n",
              "      <td>no</td>\n",
              "      <td>88</td>\n",
              "      <td>yes</td>\n",
              "      <td>no</td>\n",
              "      <td>cellular</td>\n",
              "      <td>20</td>\n",
              "      <td>apr</td>\n",
              "      <td>21</td>\n",
              "      <td>5</td>\n",
              "      <td>-1</td>\n",
              "      <td>0</td>\n",
              "      <td>unknown</td>\n",
              "      <td>no</td>\n",
              "    </tr>\n",
              "    <tr>\n",
              "      <th>40700</th>\n",
              "      <td>63</td>\n",
              "      <td>retired</td>\n",
              "      <td>married</td>\n",
              "      <td>tertiary</td>\n",
              "      <td>no</td>\n",
              "      <td>8103</td>\n",
              "      <td>no</td>\n",
              "      <td>no</td>\n",
              "      <td>cellular</td>\n",
              "      <td>7</td>\n",
              "      <td>aug</td>\n",
              "      <td>258</td>\n",
              "      <td>1</td>\n",
              "      <td>-1</td>\n",
              "      <td>0</td>\n",
              "      <td>unknown</td>\n",
              "      <td>no</td>\n",
              "    </tr>\n",
              "    <tr>\n",
              "      <th>35811</th>\n",
              "      <td>47</td>\n",
              "      <td>services</td>\n",
              "      <td>married</td>\n",
              "      <td>secondary</td>\n",
              "      <td>no</td>\n",
              "      <td>759</td>\n",
              "      <td>yes</td>\n",
              "      <td>no</td>\n",
              "      <td>telephone</td>\n",
              "      <td>8</td>\n",
              "      <td>may</td>\n",
              "      <td>75</td>\n",
              "      <td>1</td>\n",
              "      <td>323</td>\n",
              "      <td>2</td>\n",
              "      <td>failure</td>\n",
              "      <td>no</td>\n",
              "    </tr>\n",
              "  </tbody>\n",
              "</table>\n",
              "</div>"
            ],
            "text/plain": [
              "       age          job  marital  education  ... pdays  previous poutcome    y\n",
              "6136    52       admin.  married  secondary  ...    -1         0  unknown   no\n",
              "33963   59      retired  married  secondary  ...    -1         0  unknown  yes\n",
              "3610    42  blue-collar  married    primary  ...    -1         0  unknown   no\n",
              "21054   47   technician  married  secondary  ...    -1         0  unknown   no\n",
              "34340   57      retired  married   tertiary  ...    -1         0  unknown   no\n",
              "33246   31  blue-collar   single  secondary  ...    -1         0  unknown   no\n",
              "40700   63      retired  married   tertiary  ...    -1         0  unknown   no\n",
              "35811   47     services  married  secondary  ...   323         2  failure   no\n",
              "\n",
              "[8 rows x 17 columns]"
            ]
          },
          "metadata": {
            "tags": []
          },
          "execution_count": 348
        }
      ]
    },
    {
      "cell_type": "markdown",
      "metadata": {
        "id": "dwCgswL7aahH",
        "colab_type": "text"
      },
      "source": [
        "O *dataset* consiste em uma campanha de marketing onde coletou-se dados de cada um dos clientes do banco e tentou-se convencê-los a realizar um \"*term deposit*\".\n",
        "\n",
        "Cada linha do dataframe corresponde a um dos clientes contatados e as colunas suas respectivas informações. "
      ]
    },
    {
      "cell_type": "markdown",
      "metadata": {
        "id": "0g6BnfKhZIVS",
        "colab_type": "text"
      },
      "source": [
        "### **1. Qual profissão tem mais tendência a fazer um empréstimo? De qual tipo?**\n",
        "\n",
        "O *dataset* consta dois tipos de empréstimos: *house loans* e *personal loans*.\n",
        "\n",
        "Isolaremos apenas os indivíduos que fizeram empréstimos, e, então, os agruparemos de acordo com suas profissões. Por fim, contamos estes, obtendo o total de indivíduos por profissão que realizaram empréstimos.\n",
        "\n",
        "Além do total, também calcularemos o percentual relativo de cada emprego, ou seja, o percentual de clientes com empréstimos considerando apenas clientes de uma classe de emprego."
      ]
    },
    {
      "cell_type": "code",
      "metadata": {
        "id": "ozQv-KCFd8-u",
        "colab_type": "code",
        "outputId": "899f5405-83b5-484d-b72f-e74adcd63ce6",
        "colab": {
          "base_uri": "https://localhost:8080/",
          "height": 452
        }
      },
      "source": [
        "has_loan = data['loan']=='yes'\n",
        "loans = data[['job','loan']][has_loan]\n",
        "loans = loans.groupby('job').count()\n",
        "loans['l_relative_%'] = (loans['loan']/data[['job','loan']].groupby('job').count()['loan'])*100\n",
        "\n",
        "has_house = data['housing']=='yes'\n",
        "houses = data[['job','housing']][has_house]\n",
        "houses = houses.groupby('job').count()\n",
        "houses['h_relative_%'] = (houses['housing']/data[['job','housing']].groupby('job').count()['housing'])*100\n",
        "\n",
        "table = pd.concat([loans, houses], axis=1)\n",
        "table"
      ],
      "execution_count": 347,
      "outputs": [
        {
          "output_type": "execute_result",
          "data": {
            "text/html": [
              "<div>\n",
              "<style scoped>\n",
              "    .dataframe tbody tr th:only-of-type {\n",
              "        vertical-align: middle;\n",
              "    }\n",
              "\n",
              "    .dataframe tbody tr th {\n",
              "        vertical-align: top;\n",
              "    }\n",
              "\n",
              "    .dataframe thead th {\n",
              "        text-align: right;\n",
              "    }\n",
              "</style>\n",
              "<table border=\"1\" class=\"dataframe\">\n",
              "  <thead>\n",
              "    <tr style=\"text-align: right;\">\n",
              "      <th></th>\n",
              "      <th>loan</th>\n",
              "      <th>l_relative_%</th>\n",
              "      <th>housing</th>\n",
              "      <th>h_relative_%</th>\n",
              "    </tr>\n",
              "    <tr>\n",
              "      <th>job</th>\n",
              "      <th></th>\n",
              "      <th></th>\n",
              "      <th></th>\n",
              "      <th></th>\n",
              "    </tr>\n",
              "  </thead>\n",
              "  <tbody>\n",
              "    <tr>\n",
              "      <th>admin.</th>\n",
              "      <td>991</td>\n",
              "      <td>19.164572</td>\n",
              "      <td>3182</td>\n",
              "      <td>61.535486</td>\n",
              "    </tr>\n",
              "    <tr>\n",
              "      <th>blue-collar</th>\n",
              "      <td>1684</td>\n",
              "      <td>17.303740</td>\n",
              "      <td>7048</td>\n",
              "      <td>72.420880</td>\n",
              "    </tr>\n",
              "    <tr>\n",
              "      <th>entrepreneur</th>\n",
              "      <td>356</td>\n",
              "      <td>23.940820</td>\n",
              "      <td>869</td>\n",
              "      <td>58.439812</td>\n",
              "    </tr>\n",
              "    <tr>\n",
              "      <th>housemaid</th>\n",
              "      <td>152</td>\n",
              "      <td>12.258065</td>\n",
              "      <td>398</td>\n",
              "      <td>32.096774</td>\n",
              "    </tr>\n",
              "    <tr>\n",
              "      <th>management</th>\n",
              "      <td>1253</td>\n",
              "      <td>13.248044</td>\n",
              "      <td>4678</td>\n",
              "      <td>49.460774</td>\n",
              "    </tr>\n",
              "    <tr>\n",
              "      <th>retired</th>\n",
              "      <td>309</td>\n",
              "      <td>13.648410</td>\n",
              "      <td>491</td>\n",
              "      <td>21.687279</td>\n",
              "    </tr>\n",
              "    <tr>\n",
              "      <th>self-employed</th>\n",
              "      <td>229</td>\n",
              "      <td>14.502850</td>\n",
              "      <td>765</td>\n",
              "      <td>48.448385</td>\n",
              "    </tr>\n",
              "    <tr>\n",
              "      <th>services</th>\n",
              "      <td>836</td>\n",
              "      <td>20.125181</td>\n",
              "      <td>2766</td>\n",
              "      <td>66.586423</td>\n",
              "    </tr>\n",
              "    <tr>\n",
              "      <th>student</th>\n",
              "      <td>12</td>\n",
              "      <td>1.279318</td>\n",
              "      <td>249</td>\n",
              "      <td>26.545842</td>\n",
              "    </tr>\n",
              "    <tr>\n",
              "      <th>technician</th>\n",
              "      <td>1309</td>\n",
              "      <td>17.230486</td>\n",
              "      <td>4115</td>\n",
              "      <td>54.166118</td>\n",
              "    </tr>\n",
              "    <tr>\n",
              "      <th>unemployed</th>\n",
              "      <td>109</td>\n",
              "      <td>8.365311</td>\n",
              "      <td>543</td>\n",
              "      <td>41.673062</td>\n",
              "    </tr>\n",
              "    <tr>\n",
              "      <th>unknown</th>\n",
              "      <td>4</td>\n",
              "      <td>1.388889</td>\n",
              "      <td>26</td>\n",
              "      <td>9.027778</td>\n",
              "    </tr>\n",
              "  </tbody>\n",
              "</table>\n",
              "</div>"
            ],
            "text/plain": [
              "               loan  l_relative_%  housing  h_relative_%\n",
              "job                                                     \n",
              "admin.          991     19.164572     3182     61.535486\n",
              "blue-collar    1684     17.303740     7048     72.420880\n",
              "entrepreneur    356     23.940820      869     58.439812\n",
              "housemaid       152     12.258065      398     32.096774\n",
              "management     1253     13.248044     4678     49.460774\n",
              "retired         309     13.648410      491     21.687279\n",
              "self-employed   229     14.502850      765     48.448385\n",
              "services        836     20.125181     2766     66.586423\n",
              "student          12      1.279318      249     26.545842\n",
              "technician     1309     17.230486     4115     54.166118\n",
              "unemployed      109      8.365311      543     41.673062\n",
              "unknown           4      1.388889       26      9.027778"
            ]
          },
          "metadata": {
            "tags": []
          },
          "execution_count": 347
        }
      ]
    },
    {
      "cell_type": "code",
      "metadata": {
        "id": "yMhKDYm6d9Tw",
        "colab_type": "code",
        "outputId": "dde45cd2-2a55-44fd-d3a6-4a996fecc22f",
        "colab": {
          "base_uri": "https://localhost:8080/",
          "height": 289
        }
      },
      "source": [
        "print(\"Personal Loans:\\n\")\n",
        "print('Profissão com maior valor ABSOLUTO de empréstimos:')\n",
        "print(f\"{table['loan'].idxmax()} => {table['loan'].max()}\")\n",
        "print()\n",
        "print('Profissão com maior valor RELATIVO de empréstimos:')\n",
        "print(f\"{table['l_relative_%'].idxmax()} => {table['l_relative_%'].max():0.2f}%\")\n",
        "print('\\n')\n",
        "print(\"Housing Loans:\\n\")\n",
        "print('Profissão com maior valor ABSOLUTO de empréstimos:')\n",
        "print(f\"{houses['housing'].idxmax()} => {houses['housing'].max()}\")\n",
        "print()\n",
        "print('Profissão com maior valor RELATIVO de empréstimos:')\n",
        "print(f\"{houses['h_relative_%'].idxmax()} => {houses['h_relative_%'].max():0.2f}%\")"
      ],
      "execution_count": 349,
      "outputs": [
        {
          "output_type": "stream",
          "text": [
            "Personal Loans:\n",
            "\n",
            "Profissão com maior valor ABSOLUTO de empréstimos:\n",
            "blue-collar => 1684\n",
            "\n",
            "Profissão com maior valor RELATIVO de empréstimos:\n",
            "entrepreneur => 23.94%\n",
            "\n",
            "\n",
            "Housing Loans:\n",
            "\n",
            "Profissão com maior valor ABSOLUTO de empréstimos:\n",
            "blue-collar => 7048\n",
            "\n",
            "Profissão com maior valor RELATIVO de empréstimos:\n",
            "blue-collar => 72.42%\n"
          ],
          "name": "stdout"
        }
      ]
    },
    {
      "cell_type": "markdown",
      "metadata": {
        "id": "TcnVXxMsj4Kz",
        "colab_type": "text"
      },
      "source": [
        "#### **Resposta EX1**:\n",
        "\n",
        "A profissão com maior tendência de empréstimos é '*blue-collar*', sendo que '*housing loans*' é o tipo mais comum."
      ]
    },
    {
      "cell_type": "markdown",
      "metadata": {
        "id": "7nhzkBLNlr9g",
        "colab_type": "text"
      },
      "source": [
        "### **2. Fazendo uma relação entre número de contatos e sucesso da campanha quais são os pontos relevantes a serem observados?**\n",
        "\n",
        "A fim de visualizar a relação entre o número de vezes que o cliente foi contatado e o sucesso da campanha, será repetido o exemplo anterior: criaremos uma tabela que mostra o número absoluto e relativo de sucessos dado uma contagem de contatos.\n"
      ]
    },
    {
      "cell_type": "code",
      "metadata": {
        "id": "RH8Y0DE7m-yU",
        "colab_type": "code",
        "colab": {}
      },
      "source": [
        "success = data['y']=='yes'\n",
        "campaings = data[['campaign','y']][success]\n",
        "campaings = campaings.groupby('campaign').count()\n",
        "campaings['relative_%'] = (campaings['y']/data[['campaign','y']].groupby('campaign').count()['y'])*100"
      ],
      "execution_count": 0,
      "outputs": []
    },
    {
      "cell_type": "markdown",
      "metadata": {
        "id": "F-gdP6jzmjP1",
        "colab_type": "text"
      },
      "source": [
        "Para facilitar a vizualização, ilustraremos tal tabela com um gráfico.\n"
      ]
    },
    {
      "cell_type": "code",
      "metadata": {
        "id": "lygMFZuN7mt9",
        "colab_type": "code",
        "outputId": "c3d9efd5-dcf5-4b86-a944-155bf2004e90",
        "colab": {
          "base_uri": "https://localhost:8080/",
          "height": 464
        }
      },
      "source": [
        "x = list(campaings.index)\n",
        "y = list(campaings['y'])\n",
        "r = list(campaings['relative_%'])\n",
        "\n",
        "fig, ax1 = plt.subplots(figsize = (10,7))\n",
        "\n",
        "ax1.set_ylabel('Number of Successes', fontsize=14)\n",
        "ax1.tick_params(axis='y', labelcolor='blue', labelsize=12)\n",
        "ax1.plot(x, y, linestyle='-', color='blue', marker='.')\n",
        "\n",
        "ax2 = ax1.twinx()\n",
        "ax2.set_ylabel('Relative Percentage (%)', fontsize=14)\n",
        "ax2.plot(x, r, linestyle='--', color='red', marker='.')\n",
        "ax2.tick_params(axis='y', labelcolor='red', labelsize=12)\n",
        "\n",
        "ax1.set_xlabel(\"Times Contacted\", fontsize=14)\n",
        "plt.title(\"Successes per Times Contacted\", fontsize=16)\n",
        "plt.show()"
      ],
      "execution_count": 353,
      "outputs": [
        {
          "output_type": "display_data",
          "data": {
            "image/png": "[encoded data removed]",
            "text/plain": [
              "<Figure size 720x504 with 2 Axes>"
            ]
          },
          "metadata": {
            "tags": []
          }
        }
      ]
    },
    {
      "cell_type": "markdown",
      "metadata": {
        "id": "1AhboLk1pebc",
        "colab_type": "text"
      },
      "source": [
        "#### **Resposta EX2:**\n",
        "\n",
        "Observa-se que, em geral, contatar múltiplas vezes um indivíduo não compensa, pois alcança um número menor de pessoas, e não garante maior taxa de sucesso, fazendo com que tanto o valor absoluto quanto o relativo sejam maiores para casos em que foram feitos poucos contatos."
      ]
    },
    {
      "cell_type": "markdown",
      "metadata": {
        "id": "-jwsULHkqqyh",
        "colab_type": "text"
      },
      "source": [
        "### **3. Baseando-se nos resultados de adesão desta campanha qual o número médio e o máximo de ligações que você indica para otimizar a adesão?**\n",
        "\n"
      ]
    },
    {
      "cell_type": "markdown",
      "metadata": {
        "id": "d38vWvsaSX1W",
        "colab_type": "text"
      },
      "source": [
        "A partir da tabela e gráfico em **2.**, observa-se que um número menor de ligações permite que mais pessoas sejam contatadas e apresenta maior taxa de sucesso. De cinco ligacões em diante, temos que o valor estabiliza em poucos sucessos. Apesar das taxa de sucesso relativo aumentarem para altos números de ligações, o valor absoluto é muito baixo para ser relevado."
      ]
    },
    {
      "cell_type": "markdown",
      "metadata": {
        "id": "8ezwuEV9Misz",
        "colab_type": "text"
      },
      "source": [
        "#### **Resposta EX3:**\n",
        "\n",
        "A média de ligações deve ser próxima à uma por pessoas, já que apresenta melhor taxa de sucesso (absoluto e relativo), e o máximo seriam quatro ligações, uma vez que o número de sucessos aproxima-se de seu mínimo deste ponto em diante."
      ]
    },
    {
      "cell_type": "markdown",
      "metadata": {
        "id": "mMOoC8vyN04h",
        "colab_type": "text"
      },
      "source": [
        "### **4. O resultado da campanha anterior tem relevância na campanha atual?**\n"
      ]
    },
    {
      "cell_type": "markdown",
      "metadata": {
        "id": "gujO0CHCQv_q",
        "colab_type": "text"
      },
      "source": [
        "O atributo *poutcome* define o resultado da campanha anterior em relação a um indivíduo.\n",
        "Apenas as categorias *success* e *failure* do *poutcome* importam já que as outras (*unknown* e *other*) não agregam informação para a questão."
      ]
    },
    {
      "cell_type": "code",
      "metadata": {
        "id": "GVBJ6sPMPEVf",
        "colab_type": "code",
        "outputId": "ba911cec-e7c1-409e-a569-7f877d9b8506",
        "colab": {
          "base_uri": "https://localhost:8080/",
          "height": 530
        }
      },
      "source": [
        "filtering = (data['poutcome']=='failure') | (data['poutcome']=='success')\n",
        "\n",
        "ex2 = data[['poutcome','y']][filtering] # Pega amostras com 'poutcome' válidos\n",
        "\n",
        "# Transforma 'y' e 'poutcome' em valores numéricos (label encoding) \n",
        "bool_y, label_y = pd.factorize(ex2['y'])        \n",
        "bool_p, label_p = pd.factorize(ex2['poutcome']) \n",
        "\n",
        "# Plota a matriz de confusão\n",
        "df_cm = pd.DataFrame(cm(bool_p, bool_y), index=label_p, columns=label_p)\n",
        "plt.figure(figsize = (10,7))\n",
        "plot = sn.heatmap(df_cm, annot=True, annot_kws={\"size\": 20}, fmt=\"d\")\n",
        "plot.yaxis.set_ticklabels(plot.yaxis.get_ticklabels(), rotation=0, ha='right', fontsize=14)\n",
        "plot.xaxis.set_ticklabels(plot.xaxis.get_ticklabels(), rotation=45, ha='right', fontsize=14)\n",
        "sn.set(font_scale=1)\n",
        "plt.ylabel('Previous Campaign')\n",
        "plt.xlabel('Current Campaign')\n",
        "plt.title(\"Confusion Matrix (Previous vs Current Outcome)\\n\", size=20)\n",
        "plt.show()"
      ],
      "execution_count": 362,
      "outputs": [
        {
          "output_type": "display_data",
          "data": {
            "image/png": "[encoded data removed]",
            "text/plain": [
              "<Figure size 720x504 with 2 Axes>"
            ]
          },
          "metadata": {
            "tags": []
          }
        }
      ]
    },
    {
      "cell_type": "code",
      "metadata": {
        "id": "3Dk7BjNQiBA2",
        "colab_type": "code",
        "outputId": "60d147a3-73fb-4448-8de9-1af724f5864c",
        "colab": {
          "base_uri": "https://localhost:8080/",
          "height": 85
        }
      },
      "source": [
        "print(f'Tamanho da amostra em relação ao total: {((533+978+4283+618)/len(data))*100:0.2f}%')\n",
        "print(f'Sucessos atuais contidos na amostra: {(978+618)/len(data[data[\"y\"]==\"yes\"])*100:0.2f}%')\n",
        "print(f'Sucessos da anterior que continuram na atual: {978/(533+978)*100:0.2f}%')\n",
        "print(f'Fracassos da anterior que negaram a atual: {4283/(4283+618)*100:0.2f}%')\n"
      ],
      "execution_count": 363,
      "outputs": [
        {
          "output_type": "stream",
          "text": [
            "Tamanho da amostra em relação ao total: 14.18%\n",
            "Sucessos atuais contidos na amostra: 30.18%\n",
            "Sucessos da anterior que continuram na atual: 64.73%\n",
            "Fracassos da anterior que negaram a atual: 87.39%\n"
          ],
          "name": "stdout"
        }
      ]
    },
    {
      "cell_type": "markdown",
      "metadata": {
        "id": "5g86hD9Mflet",
        "colab_type": "text"
      },
      "source": [
        "Apesar da amostra que apresenta os resultados da campanha anterior ser cerca de 14% do total de dados, temos que 30% dos sucessos da campanha atual estão contidos nessa amostra.\n",
        "\n",
        "Observando a matriz de confusão, podemos notar que há uma grande tendência de que indivíduos que recusaram a campanha anterior também recusarão a atual. Nota-se, também, que boa parcela dos sucessos na campanha anterior se mantém na campanha atual.\n"
      ]
    },
    {
      "cell_type": "markdown",
      "metadata": {
        "id": "l7-ArroZqHfu",
        "colab_type": "text"
      },
      "source": [
        "#### **Resposta EX4:**\n",
        "\n",
        "A partir da análise, podemos assumir que o resultado da campanha anterior é relevante para atual. Seria benéfico, por exemplo, dar prioridades a indivíduos que já participaram de alguma campanha pois teriam maior probabilidade de sucesso em relação aos que não participaram."
      ]
    },
    {
      "cell_type": "markdown",
      "metadata": {
        "id": "BKZL6oWwr_Nj",
        "colab_type": "text"
      },
      "source": [
        "### **5. Qual o fator determinante para que o banco exija um seguro de crédito?**\n",
        "\n"
      ]
    },
    {
      "cell_type": "markdown",
      "metadata": {
        "id": "NiaSjSnn7DK0",
        "colab_type": "text"
      },
      "source": [
        "**Observação:** Não compreendi direito a pergunta e o atributo *default*. Assumi que tal atributo indica \"*yes*\" para caso seja crédito padrão e \"*no*\" para crédito com exigência de seguro.\n",
        "\n",
        "Utilizaremos a técnica de *Feature Importance* para listar quais variáveis são mais relevantes para determinar a variável *default*. Também serão descartadas informações de contato e campanha para evitar associações errôneas. \n",
        "\n"
      ]
    },
    {
      "cell_type": "code",
      "metadata": {
        "colab_type": "code",
        "id": "wFnMJy9zrK7D",
        "colab": {
          "base_uri": "https://localhost:8080/",
          "height": 357
        },
        "outputId": "fce02dcb-6baa-4c38-a6d4-6bdb9cf6514e"
      },
      "source": [
        "# Isolaremos apenas fetures de interesse\n",
        "df = pd.DataFrame(data.iloc[:,:8])\n",
        "\n",
        "# Separamos features e target variable\n",
        "X = df.drop('default', axis=1)\n",
        "Y = df[['default']]\n",
        "\n",
        "# Trasformamos texto para dado numérico (label encoding)\n",
        "for col in list(set(X.columns)-set(['age', 'balance'])):\n",
        "  X[col] = pd.factorize(X[col])[0]\n",
        "\n",
        "# Instanciamos e treinamos o classificador\n",
        "model = ExtraTreesClassifier()\n",
        "model.fit(X, Y.values.ravel())\n",
        "\n",
        "main_features = pd.Series(model.feature_importances_, index=X.columns)\n",
        "main_features.nlargest(5).plot(kind='barh')\n",
        "plt.xlabel(\"Importance\")\n",
        "plt.ylabel(\"Features\")\n",
        "plt.title(\"Classifying Relevant Features\", size=16)\n",
        "plt.show()"
      ],
      "execution_count": 373,
      "outputs": [
        {
          "output_type": "stream",
          "text": [
            "/usr/local/lib/python3.6/dist-packages/sklearn/ensemble/forest.py:245: FutureWarning: The default value of n_estimators will change from 10 in version 0.20 to 100 in 0.22.\n",
            "  \"10 in version 0.20 to 100 in 0.22.\", FutureWarning)\n"
          ],
          "name": "stderr"
        },
        {
          "output_type": "display_data",
          "data": {
            "image/png": "[encoded data removed]",
            "text/plain": [
              "<Figure size 432x288 with 1 Axes>"
            ]
          },
          "metadata": {
            "tags": []
          }
        }
      ]
    },
    {
      "cell_type": "markdown",
      "metadata": {
        "id": "XDo4dzrGZFMp",
        "colab_type": "text"
      },
      "source": [
        "Dada a classificação, temos que os atrubutos *balance* e *age* são os mais relevante para a análise. Assim, podemos agupar estes valores de acordo com a variável *default* e analisar as características de cada grupo."
      ]
    },
    {
      "cell_type": "code",
      "metadata": {
        "id": "YKyJ9345zXzE",
        "colab_type": "code",
        "colab": {
          "base_uri": "https://localhost:8080/",
          "height": 733
        },
        "outputId": "da7a39d6-1430-4929-feca-5d7391eda652"
      },
      "source": [
        "# Isolando features mais relevantes\n",
        "df = pd.DataFrame(data[['age','balance','default']])\n",
        "\n",
        "# Plotando grupo 'YES'\n",
        "fig1, ax1 = plt.subplots(1, 2, sharex=\"col\", figsize=(10,5))\n",
        "fig1.suptitle(\"'Yes' Group\", size=22)\n",
        "ax1[0].title.set_text(\"Balance\")\n",
        "ax1[1].title.set_text(\"Age\")\n",
        "ax1[0].set_ylabel(\"Amount of Clients\")\n",
        "ax1[0].set_xlabel(\"Balance Bins\")\n",
        "ax1[1].set_xlabel(\"Age Bins\")\n",
        "\n",
        "df[df['default']=='yes']['balance'].hist(ax=ax1[0],bins=50)\n",
        "df[df['default']=='yes']['age'].hist(ax=ax1[1], bins=50)\n",
        "\n",
        "# Plotando grupo 'NO'\n",
        "fig2, ax2 = plt.subplots(1, 2, sharex=\"col\", figsize=(10,5))\n",
        "fig2.suptitle(\"'No' Group\", size=22)\n",
        "ax2[0].title.set_text(\"Balance\")\n",
        "ax2[1].title.set_text(\"Age\")\n",
        "ax2[0].set_ylabel(\"Amount of Clients\")\n",
        "ax2[0].set_xlabel(\"Balance Bins\")\n",
        "ax2[1].set_xlabel(\"Age Bins\")\n",
        "\n",
        "df[df['default']=='no']['balance'].hist(ax=ax2[0],bins=50)\n",
        "df[df['default']=='no']['age'].hist(ax=ax2[1], bins=50)\n",
        "\n",
        "plt.show()"
      ],
      "execution_count": 376,
      "outputs": [
        {
          "output_type": "display_data",
          "data": {
            "image/png": "[encoded data removed]",
            "text/plain": [
              "<Figure size 720x360 with 2 Axes>"
            ]
          },
          "metadata": {
            "tags": []
          }
        },
        {
          "output_type": "display_data",
          "data": {
            "image/png": "[encoded data removed]",
            "text/plain": [
              "<Figure size 720x360 with 2 Axes>"
            ]
          },
          "metadata": {
            "tags": []
          }
        }
      ]
    },
    {
      "cell_type": "markdown",
      "metadata": {
        "id": "ZbISIUWqe0y4",
        "colab_type": "text"
      },
      "source": [
        "Quanto ao balanço, ambos os histogramas apresentam picos pŕoximos, todavia, parece haver uma pequena relação quanto a saldo positivo e a exigência de seguro de crédito (possívelmente por causa de uma má interpretação dos dados), o que aparenta ser incoerente.\n",
        "\n",
        "Comparando os gráficos, temos que a idade parece restritiva quanto a isenção do seguro de crédito. Contas sem tal exigência aparentam restritas as pessoas entre 21 e 60 anos. Tal característica pode estar relacionada a participação do indivíduo no merdado de trabalho, o que reforçado pelo fato que *job* é o terceiro atributo mais importante."
      ]
    },
    {
      "cell_type": "markdown",
      "metadata": {
        "id": "Nvey9Zqch3O1",
        "colab_type": "text"
      },
      "source": [
        "#### **Resposta EX5:**\n",
        "\n",
        "O fator determinante para exigência de seguro de crédito aparenta ser a idade do cliente, uma vez que quase não há ocorrências de pessoas menores que 21 ou maiores que 60 sem exigência de seguro de crédito, e que esta é a idade empregatícia. "
      ]
    },
    {
      "cell_type": "markdown",
      "metadata": {
        "id": "NOY2DhqU8-Oa",
        "colab_type": "text"
      },
      "source": [
        "### **6. Quais são as características mais proeminentes de um cliente que possua empréstimo imobiliário?**\n",
        "\n",
        "\n"
      ]
    },
    {
      "cell_type": "markdown",
      "metadata": {
        "id": "nBcMDs8d2jC4",
        "colab_type": "text"
      },
      "source": [
        "Nesta parte, utilizaremos dois conceitos que nos ajudarão a estabelecer um coeficiente de dependência entre a variável objetivo e os outros atributos: *Weight of Evidence* e *Information Value*."
      ]
    },
    {
      "cell_type": "markdown",
      "metadata": {
        "id": "FMv4ZRHHFsPd",
        "colab_type": "text"
      },
      "source": [
        "##### **Função para Calculo de WoE e IV**\n"
      ]
    },
    {
      "cell_type": "code",
      "metadata": {
        "colab_type": "code",
        "id": "kM7p9gsYv7Gb",
        "colab": {}
      },
      "source": [
        "def iv(df, col, targ):\n",
        "  # Cálculo do total de eventos e não-eventos\n",
        "  event_total = len(df[df[targ]=='yes'])\n",
        "  nonevent_total = len(df[df[targ]=='no'])\n",
        "\n",
        "  elements = list(df[col].unique())\n",
        "  woe_vals = []\n",
        "  iv_vals = []\n",
        "  \n",
        "  # Dividimos os dados em dois grupos: evento e não-evento\n",
        "  event = df[df[targ]=='yes']   \n",
        "  nonevent = df[df[targ]=='no']\n",
        "  \n",
        "  # Calculamos WoE e IV para cada uma das variaveis de uma coluna\n",
        "  for e in elements:\n",
        "    # Percentual da variável 'e' pelo total de eventos\n",
        "    event_percent = len(event[event[col]==e])/event_total           \n",
        "    # Percentual da variável 'e' pelo total de não-eventos \n",
        "    nonevent_percent = len(nonevent[nonevent[col]==e])/event_total\n",
        "    # Calculo de WoE e IV\n",
        "    woe_vals.append(np.log(event_percent/nonevent_percent))\n",
        "    iv_vals.append((event_percent-nonevent_percent)*woe_vals[-1])\n",
        "\n",
        "  # Retorna tabela com WoE e IV de cada uma das variáveis do atributo\n",
        "  return pd.DataFrame(zip(woe_vals, iv_vals), index=elements, columns=['woe','iv'])"
      ],
      "execution_count": 0,
      "outputs": []
    },
    {
      "cell_type": "markdown",
      "metadata": {
        "id": "ROa3pFsfPS1b",
        "colab_type": "text"
      },
      "source": [
        "Com a função para calcular WoE e IV, podemos testar todos os atributos e observar qual apresenta maior correlação quanto a um atributo alvo.\n",
        "\n",
        "Antes de poder aplicar a função, precisamos discretizar atributos continuos do *dataset*."
      ]
    },
    {
      "cell_type": "code",
      "metadata": {
        "id": "9K-0HAJ--wUa",
        "colab_type": "code",
        "colab": {}
      },
      "source": [
        "# Pegamos apenas atributos úteis\n",
        "df = pd.DataFrame(data.iloc[:,:8])\n",
        "\n",
        "# Discretizamos 'balance' e 'age' (binning)\n",
        "df['age_bin'] = pd.qcut(df['age'], 7) \n",
        "df['balance_bin'] = pd.qcut(df['balance'], 10)\n",
        "df = df.drop(labels=['balance','age'], axis=1)"
      ],
      "execution_count": 0,
      "outputs": []
    },
    {
      "cell_type": "markdown",
      "metadata": {
        "id": "ZOF5Yli_s-go",
        "colab_type": "text"
      },
      "source": [
        "Com o *dataframe* processado, podemos aplicar a função para calcular WoE e IV e fazer a somatória de cada um dos atributos para saber qual é o mais relevante. "
      ]
    },
    {
      "cell_type": "code",
      "metadata": {
        "id": "ZLVk3btXDBUO",
        "colab_type": "code",
        "outputId": "5a64097b-48c2-4711-96f2-dd4b4dbe0568",
        "colab": {
          "base_uri": "https://localhost:8080/",
          "height": 266
        }
      },
      "source": [
        "iv_totals = []\n",
        "index = list(df.drop('housing', axis=1).keys())\n",
        "for att in index:\n",
        "  iv_totals.append(iv(df, att, 'housing')['iv'].sum())\n",
        "\n",
        "pd.DataFrame(iv_totals, index=index, columns=['IV'])"
      ],
      "execution_count": 386,
      "outputs": [
        {
          "output_type": "execute_result",
          "data": {
            "text/html": [
              "<div>\n",
              "<style scoped>\n",
              "    .dataframe tbody tr th:only-of-type {\n",
              "        vertical-align: middle;\n",
              "    }\n",
              "\n",
              "    .dataframe tbody tr th {\n",
              "        vertical-align: top;\n",
              "    }\n",
              "\n",
              "    .dataframe thead th {\n",
              "        text-align: right;\n",
              "    }\n",
              "</style>\n",
              "<table border=\"1\" class=\"dataframe\">\n",
              "  <thead>\n",
              "    <tr style=\"text-align: right;\">\n",
              "      <th></th>\n",
              "      <th>IV</th>\n",
              "    </tr>\n",
              "  </thead>\n",
              "  <tbody>\n",
              "    <tr>\n",
              "      <th>job</th>\n",
              "      <td>0.356753</td>\n",
              "    </tr>\n",
              "    <tr>\n",
              "      <th>marital</th>\n",
              "      <td>0.046618</td>\n",
              "    </tr>\n",
              "    <tr>\n",
              "      <th>education</th>\n",
              "      <td>0.096786</td>\n",
              "    </tr>\n",
              "    <tr>\n",
              "      <th>default</th>\n",
              "      <td>0.045194</td>\n",
              "    </tr>\n",
              "    <tr>\n",
              "      <th>loan</th>\n",
              "      <td>0.051374</td>\n",
              "    </tr>\n",
              "    <tr>\n",
              "      <th>age_bin</th>\n",
              "      <td>0.210806</td>\n",
              "    </tr>\n",
              "    <tr>\n",
              "      <th>balance_bin</th>\n",
              "      <td>0.071181</td>\n",
              "    </tr>\n",
              "  </tbody>\n",
              "</table>\n",
              "</div>"
            ],
            "text/plain": [
              "                   IV\n",
              "job          0.356753\n",
              "marital      0.046618\n",
              "education    0.096786\n",
              "default      0.045194\n",
              "loan         0.051374\n",
              "age_bin      0.210806\n",
              "balance_bin  0.071181"
            ]
          },
          "metadata": {
            "tags": []
          },
          "execution_count": 386
        }
      ]
    },
    {
      "cell_type": "markdown",
      "metadata": {
        "id": "LEPMZpuQJeLg",
        "colab_type": "text"
      },
      "source": [
        "Temos uma tabela de referência para saber distinguir os atributos relevantes.\n",
        "\n",
        "![](https://miro.medium.com/max/1156/1*5S_5aAHWe0_knDGZUK3W8w.png)\n",
        "\n",
        "Comparando os valores da tabela com os do *dataframe* obtido, temos dois atributos que prevalecem em relação ao empréstimo imobiliário: *job* e *age*.\n",
        "\n",
        "Agora analisaremos os WoE e IV de cada uma das variáveis de ambos atributos para traçar o perfil do invíduo que realiza empréstimo imobiliário."
      ]
    },
    {
      "cell_type": "code",
      "metadata": {
        "id": "6SCK2UB1DBwD",
        "colab_type": "code",
        "outputId": "f1997f25-0290-4ece-f18d-c2423467ec97",
        "colab": {
          "base_uri": "https://localhost:8080/",
          "height": 421
        }
      },
      "source": [
        "iv(df, 'job', 'housing').sort_values('woe', ascending=False)"
      ],
      "execution_count": 387,
      "outputs": [
        {
          "output_type": "execute_result",
          "data": {
            "text/html": [
              "<div>\n",
              "<style scoped>\n",
              "    .dataframe tbody tr th:only-of-type {\n",
              "        vertical-align: middle;\n",
              "    }\n",
              "\n",
              "    .dataframe tbody tr th {\n",
              "        vertical-align: top;\n",
              "    }\n",
              "\n",
              "    .dataframe thead th {\n",
              "        text-align: right;\n",
              "    }\n",
              "</style>\n",
              "<table border=\"1\" class=\"dataframe\">\n",
              "  <thead>\n",
              "    <tr style=\"text-align: right;\">\n",
              "      <th></th>\n",
              "      <th>woe</th>\n",
              "      <th>iv</th>\n",
              "    </tr>\n",
              "  </thead>\n",
              "  <tbody>\n",
              "    <tr>\n",
              "      <th>blue-collar</th>\n",
              "      <td>0.965436</td>\n",
              "      <td>0.167655</td>\n",
              "    </tr>\n",
              "    <tr>\n",
              "      <th>services</th>\n",
              "      <td>0.689538</td>\n",
              "      <td>0.037811</td>\n",
              "    </tr>\n",
              "    <tr>\n",
              "      <th>admin.</th>\n",
              "      <td>0.469878</td>\n",
              "      <td>0.022307</td>\n",
              "    </tr>\n",
              "    <tr>\n",
              "      <th>entrepreneur</th>\n",
              "      <td>0.340855</td>\n",
              "      <td>0.003404</td>\n",
              "    </tr>\n",
              "    <tr>\n",
              "      <th>technician</th>\n",
              "      <td>0.167032</td>\n",
              "      <td>0.004207</td>\n",
              "    </tr>\n",
              "    <tr>\n",
              "      <th>management</th>\n",
              "      <td>-0.021570</td>\n",
              "      <td>0.000088</td>\n",
              "    </tr>\n",
              "    <tr>\n",
              "      <th>self-employed</th>\n",
              "      <td>-0.062085</td>\n",
              "      <td>0.000121</td>\n",
              "    </tr>\n",
              "    <tr>\n",
              "      <th>unemployed</th>\n",
              "      <td>-0.336209</td>\n",
              "      <td>0.002903</td>\n",
              "    </tr>\n",
              "    <tr>\n",
              "      <th>housemaid</th>\n",
              "      <td>-0.749328</td>\n",
              "      <td>0.013239</td>\n",
              "    </tr>\n",
              "    <tr>\n",
              "      <th>student</th>\n",
              "      <td>-1.017788</td>\n",
              "      <td>0.017820</td>\n",
              "    </tr>\n",
              "    <tr>\n",
              "      <th>retired</th>\n",
              "      <td>-1.283984</td>\n",
              "      <td>0.065502</td>\n",
              "    </tr>\n",
              "    <tr>\n",
              "      <th>unknown</th>\n",
              "      <td>-2.310248</td>\n",
              "      <td>0.021696</td>\n",
              "    </tr>\n",
              "  </tbody>\n",
              "</table>\n",
              "</div>"
            ],
            "text/plain": [
              "                    woe        iv\n",
              "blue-collar    0.965436  0.167655\n",
              "services       0.689538  0.037811\n",
              "admin.         0.469878  0.022307\n",
              "entrepreneur   0.340855  0.003404\n",
              "technician     0.167032  0.004207\n",
              "management    -0.021570  0.000088\n",
              "self-employed -0.062085  0.000121\n",
              "unemployed    -0.336209  0.002903\n",
              "housemaid     -0.749328  0.013239\n",
              "student       -1.017788  0.017820\n",
              "retired       -1.283984  0.065502\n",
              "unknown       -2.310248  0.021696"
            ]
          },
          "metadata": {
            "tags": []
          },
          "execution_count": 387
        }
      ]
    },
    {
      "cell_type": "code",
      "metadata": {
        "id": "tMQAlRrZDGkZ",
        "colab_type": "code",
        "outputId": "b683c8a0-8814-40b0-9e1b-18cf271be1b1",
        "colab": {
          "base_uri": "https://localhost:8080/",
          "height": 266
        }
      },
      "source": [
        "iv(df, 'age_bin', 'housing').sort_values('woe', ascending=False)"
      ],
      "execution_count": 388,
      "outputs": [
        {
          "output_type": "execute_result",
          "data": {
            "text/html": [
              "<div>\n",
              "<style scoped>\n",
              "    .dataframe tbody tr th:only-of-type {\n",
              "        vertical-align: middle;\n",
              "    }\n",
              "\n",
              "    .dataframe tbody tr th {\n",
              "        vertical-align: top;\n",
              "    }\n",
              "\n",
              "    .dataframe thead th {\n",
              "        text-align: right;\n",
              "    }\n",
              "</style>\n",
              "<table border=\"1\" class=\"dataframe\">\n",
              "  <thead>\n",
              "    <tr style=\"text-align: right;\">\n",
              "      <th></th>\n",
              "      <th>woe</th>\n",
              "      <th>iv</th>\n",
              "    </tr>\n",
              "  </thead>\n",
              "  <tbody>\n",
              "    <tr>\n",
              "      <th>(33.0, 37.0]</th>\n",
              "      <td>0.563747</td>\n",
              "      <td>0.045136</td>\n",
              "    </tr>\n",
              "    <tr>\n",
              "      <th>(37.0, 41.0]</th>\n",
              "      <td>0.561160</td>\n",
              "      <td>0.034188</td>\n",
              "    </tr>\n",
              "    <tr>\n",
              "      <th>(30.0, 33.0]</th>\n",
              "      <td>0.538324</td>\n",
              "      <td>0.034082</td>\n",
              "    </tr>\n",
              "    <tr>\n",
              "      <th>(41.0, 47.0]</th>\n",
              "      <td>0.315501</td>\n",
              "      <td>0.013785</td>\n",
              "    </tr>\n",
              "    <tr>\n",
              "      <th>(17.999, 30.0]</th>\n",
              "      <td>0.306794</td>\n",
              "      <td>0.013063</td>\n",
              "    </tr>\n",
              "    <tr>\n",
              "      <th>(47.0, 54.0]</th>\n",
              "      <td>-0.019448</td>\n",
              "      <td>0.000049</td>\n",
              "    </tr>\n",
              "    <tr>\n",
              "      <th>(54.0, 95.0]</th>\n",
              "      <td>-0.809032</td>\n",
              "      <td>0.070505</td>\n",
              "    </tr>\n",
              "  </tbody>\n",
              "</table>\n",
              "</div>"
            ],
            "text/plain": [
              "                     woe        iv\n",
              "(33.0, 37.0]    0.563747  0.045136\n",
              "(37.0, 41.0]    0.561160  0.034188\n",
              "(30.0, 33.0]    0.538324  0.034082\n",
              "(41.0, 47.0]    0.315501  0.013785\n",
              "(17.999, 30.0]  0.306794  0.013063\n",
              "(47.0, 54.0]   -0.019448  0.000049\n",
              "(54.0, 95.0]   -0.809032  0.070505"
            ]
          },
          "metadata": {
            "tags": []
          },
          "execution_count": 388
        }
      ]
    },
    {
      "cell_type": "markdown",
      "metadata": {
        "id": "IywzzNNNLxmr",
        "colab_type": "text"
      },
      "source": [
        "Comparando o *Weight of Evidence* de cada valor dentro dos atributos mencionados, temos uma tendência de *blue-collars* de 30-50 anos.\n"
      ]
    },
    {
      "cell_type": "markdown",
      "metadata": {
        "id": "GnpRe_TJMK-m",
        "colab_type": "text"
      },
      "source": [
        "#### **Resposta EX6:**\n",
        "\n",
        "A idade e o emprego do indivídou são as características mais relevantes ao se avaliar se este apresenta ou não empréstimo imobiliário. O perfil destes costuma ser *blue-collars* de 30 a 50 anos de idade."
      ]
    },
    {
      "cell_type": "markdown",
      "metadata": {
        "id": "__V2qnQthdw4",
        "colab_type": "text"
      },
      "source": [
        "# *Referências*\n",
        "1. [Panda's Documentation Reference](https://pandas.pydata.org/pandas-docs/stable/)\n",
        "\n",
        "1. [Panda's groupby() Function Reference](https://www.shanelynn.ie/summarising-aggregation-and-grouping-data-in-python-pandas/)\n",
        "\n",
        "2. [Matplotlib Plotting Reference](https://matplotlib.org/)\n",
        "\n",
        "3. [Seaborn Confusion Matrix Plot](https://gist.github.com/shaypal5/94c53d765083101efc0240d776a23823)\n",
        "\n",
        "5. [Feature Importance Techniques](https://towardsdatascience.com/feature-selection-techniques-in-machine-learning-with-python-f24e7da3f36e)\n",
        "\n",
        "6. [Weight of Evidence and Information Value](https://towardsdatascience.com/attribute-relevance-analysis-in-python-iv-and-woe-b5651443fc04)\n"
      ]
    }
  ]
}